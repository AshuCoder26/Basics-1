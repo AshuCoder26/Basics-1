{
 "cells": [
  {
   "cell_type": "code",
   "execution_count": 3,
   "metadata": {},
   "outputs": [
    {
     "name": "stdout",
     "output_type": "stream",
     "text": [
      "Asif Ali\n",
      "HANI MUSHTAQ\n",
      "MILO\n",
      "{'name': 'Aaish Faisal Hameedi', 'dpt': 'BSCS', 'gf': 'HANI MUSHTAQ'}\n"
     ]
    }
   ],
   "source": [
    "class Student:\n",
    "    Instructor = \"Asif Ali\"\n",
    "    \n",
    "    pass\n",
    "Ashu = Student()\n",
    "Umer = Student()\n",
    "Ashu.name = \"Aaish Faisal Hameedi\"\n",
    "Umer.name = \"Umer Anjum\"\n",
    "Ashu.dpt = \"BSCS\"\n",
    "Umer.dpt = \"BSSE\"\n",
    "Ashu.gf = \"HANI MUSHTAQ\"\n",
    "Umer.gf = \"MILO\"\n",
    "print(Ashu.Instructor)\n",
    "print(Ashu.gf)\n",
    "print(Umer.gf)\n",
    "print(Ashu.__dict__)\n"
   ]
  },
  {
   "cell_type": "code",
   "execution_count": 7,
   "metadata": {},
   "outputs": [
    {
     "name": "stdout",
     "output_type": "stream",
     "text": [
      "Student name is: Aaish Faisal Hameedi. Student dpt is: BSCS. Student gf is: HANI MUSHTAQ\n"
     ]
    }
   ],
   "source": [
    "class Student:\n",
    "    def printdetails(self):\n",
    "        return f\"Student name is: {self.name}. Student dpt is: {self.dpt}. Student gf is: {self.gf}\"    \n",
    "    pass\n",
    "Ashu = Student()\n",
    "Umer = Student()\n",
    "Ashu.name = \"Aaish Faisal Hameedi\"\n",
    "Umer.name = \"Umer Anjum\"\n",
    "Ashu.dpt = \"BSCS\"\n",
    "Umer.dpt = \"BSSE\"\n",
    "Ashu.gf = \"HANI MUSHTAQ\"\n",
    "Umer.gf = \"MILO\"\n",
    "print(Ashu.printdetails())\n"
   ]
  },
  {
   "cell_type": "code",
   "execution_count": null,
   "metadata": {},
   "outputs": [],
   "source": [
    "class Student:\n",
    "    def __init__(self,):\n",
    "\n",
    "        pass\n",
    "    def printdetails(self):\n",
    "        return f\"Student name is: {self.name}. Student dpt is: {self.dpt}. Student gf is: {self.gf}\"    \n",
    "    pass\n",
    "Ashu = Student()\n",
    "Umer = Student()\n",
    "Ashu.name = \"Aaish Faisal Hameedi\"\n",
    "Umer.name = \"Umer Anjum\"\n",
    "Ashu.dpt = \"BSCS\"\n",
    "Umer.dpt = \"BSSE\"\n",
    "Ashu.gf = \"HANI MUSHTAQ\"\n",
    "Umer.gf = \"MILO\"\n",
    "print(Ashu.printdetails())\n"
   ]
  }
 ],
 "metadata": {
  "kernelspec": {
   "display_name": "Python 3",
   "language": "python",
   "name": "python3"
  },
  "language_info": {
   "codemirror_mode": {
    "name": "ipython",
    "version": 3
   },
   "file_extension": ".py",
   "mimetype": "text/x-python",
   "name": "python",
   "nbconvert_exporter": "python",
   "pygments_lexer": "ipython3",
   "version": "3.11.0"
  },
  "orig_nbformat": 4,
  "vscode": {
   "interpreter": {
    "hash": "07ec0e2692a757d177a3dcdf9f48c8e08a2ac51688a0f5f42c4ae1cd4e9b6d8f"
   }
  }
 },
 "nbformat": 4,
 "nbformat_minor": 2
}
